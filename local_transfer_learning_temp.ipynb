{
 "cells": [
  {
   "cell_type": "code",
   "execution_count": 2,
   "metadata": {},
   "outputs": [],
   "source": [
    "from paddlehub.dataset.base_nlp_dataset import BaseNLPDataset\n",
    "import codecs\n",
    "from paddlehub.dataset import InputExample\n",
    "import csv \n",
    "import os\n",
    "class YouDatasetName(BaseNLPDataset):\n",
    "    \n",
    "    def __init__(self):\n",
    "        base_path = 'C:/Users/zhang/'\n",
    "        super(YouDatasetName, self).__init__(\n",
    "            base_path=base_path,\n",
    "            train_file= 'train_set.txt',\n",
    "            #dev_file= 验证集文件名,\n",
    "            #test_file= 'train_set.txt',\n",
    "            predict_file=\"predict.csv\",\n",
    "            train_file_with_header=False,\n",
    "            label_file=None,\n",
    "            predict_file_with_header=True,\n",
    "            # 数据集类别集合\n",
    "            label_list=[\"0\", \"1\"]\n",
    "\n",
    "\n",
    "        )\n",
    "        "
   ]
  },
  {
   "cell_type": "code",
   "execution_count": 3,
   "metadata": {},
   "outputs": [],
   "source": [
    "dataset =YouDatasetName()"
   ]
  },
  {
   "cell_type": "code",
   "execution_count": 4,
   "metadata": {},
   "outputs": [
    {
     "name": "stderr",
     "output_type": "stream",
     "text": [
      "[2020-03-06 10:07:14,439] [    INFO] - Installing ernie module\n",
      "[2020-03-06 10:07:14,733] [    INFO] - Module ernie already installed in C:\\Users\\zhang\\.paddlehub\\modules\\ernie\n",
      "[2020-03-06 10:07:19,556] [    INFO] - Dataset label map = {'0': 0, '1': 1}\n"
     ]
    }
   ],
   "source": [
    "import paddlehub as hub\n",
    "module = hub.Module(name=\"ernie\")\n",
    "reader = hub.reader.ClassifyReader(\n",
    "    dataset=dataset,\n",
    "    vocab_path=module.get_vocab_path(),\n",
    "    sp_model_path=module.get_spm_path(),\n",
    "    word_dict_path=module.get_word_dict_path(),\n",
    "    max_seq_len=128)"
   ]
  },
  {
   "cell_type": "code",
   "execution_count": null,
   "metadata": {},
   "outputs": [
    {
     "name": "stderr",
     "output_type": "stream",
     "text": [
      "[2020-03-06 10:07:19,626] [    INFO] - Checkpoint dir: ckpt_20200306100719\n",
      "[2020-03-06 10:07:19,744] [    INFO] - Set maximum sequence length of input tensor to 128\n",
      "[2020-03-06 10:07:19,744] [    INFO] - The shape of input tensor[input_ids] set to [-1, 128, 1]\n",
      "[2020-03-06 10:07:19,744] [    INFO] - The shape of input tensor[position_ids] set to [-1, 128, 1]\n",
      "[2020-03-06 10:07:19,744] [    INFO] - The shape of input tensor[segment_ids] set to [-1, 128, 1]\n",
      "[2020-03-06 10:07:19,744] [    INFO] - The shape of input tensor[input_mask] set to [-1, 128, 1]\n",
      "[2020-03-06 10:07:19,744] [    INFO] - 199 pretrained paramaters loaded by PaddleHub\n",
      "!!! The CPU_NUM is not specified, you should set CPU_NUM in the environment variable list.\n",
      "CPU_NUM indicates that how many CPUPlace are used in the current task.\n",
      "And if this parameter are set as N (equal to the number of physical CPU core) the program may be faster.\n",
      "\n",
      "export CPU_NUM=4 # for example, set CPU_NUM as number of physical CPU core which is 4.\n",
      "\n",
      "!!! The default number of CPU_NUM=1.\n",
      "WARNING:root:paddle.fluid.layers.py_reader() may be deprecated in the near future. Please use paddle.fluid.io.DataLoader.from_generator() instead.\n",
      "[2020-03-06 10:07:21,708] [    INFO] - Strategy with scheduler: {'warmup': 0.1, 'linear_decay': {'start_point': 0.1, 'end_learning_rate': 0}, 'noam_decay': False, 'discriminative': {'blocks': 0, 'factor': 2.6}, 'gradual_unfreeze': 0, 'slanted_triangle': {'cut_fraction': 0.0, 'ratio': 32}}, regularization: {'L2': 0.0, 'L2SP': 0.0, 'weight_decay': 0.01} and clip: {'GlobalNorm': 1.0, 'Norm': 0.0}\n",
      "[2020-03-06 10:07:27,153] [    INFO] - Try loading checkpoint from ckpt_20200306100719\\ckpt.meta\n",
      "[2020-03-06 10:07:27,153] [    INFO] - PaddleHub model checkpoint not found, start from scratch...\n",
      "[2020-03-06 10:07:27,765] [    INFO] - PaddleHub finetune start\n"
     ]
    }
   ],
   "source": [
    "strategy = hub.AdamWeightDecayStrategy(\n",
    "    weight_decay=0.01,\n",
    "    warmup_proportion=0.1,\n",
    "    learning_rate=5e-5)\n",
    "\n",
    "config = hub.RunConfig(\n",
    "    use_cuda=False,\n",
    "    num_epoch=1,\n",
    "    #checkpoint_dir=\"ernie_txt_cls_turtorial_demo\",\n",
    "    batch_size=100,\n",
    "    eval_interval=50,\n",
    "    strategy=strategy)\n",
    "inputs, outputs, program = module.context(\n",
    "    trainable=True, max_seq_len=128)\n",
    "\n",
    "pooled_output = outputs[\"pooled_output\"]\n",
    "\n",
    "feed_list = [\n",
    "    inputs[\"input_ids\"].name,\n",
    "    inputs[\"position_ids\"].name,\n",
    "    inputs[\"segment_ids\"].name,\n",
    "    inputs[\"input_mask\"].name,\n",
    "]\n",
    "\n",
    "cls_task = hub.TextClassifierTask(\n",
    "    data_reader=reader,\n",
    "    feature=pooled_output,\n",
    "    feed_list=feed_list,\n",
    "    num_classes=dataset.num_labels,\n",
    "    config=config)\n",
    "\n",
    "run_states = cls_task.finetune()"
   ]
  },
  {
   "cell_type": "code",
   "execution_count": 6,
   "metadata": {},
   "outputs": [
    {
     "data": {
      "text/plain": [
       "[<paddlehub.finetune.task.base_task.RunState at 0x26ece19d788>,\n",
       " <paddlehub.finetune.task.base_task.RunState at 0x26ece19df88>,\n",
       " <paddlehub.finetune.task.base_task.RunState at 0x26ece19dc08>,\n",
       " <paddlehub.finetune.task.base_task.RunState at 0x26ece19dc88>,\n",
       " <paddlehub.finetune.task.base_task.RunState at 0x26ece184948>,\n",
       " <paddlehub.finetune.task.base_task.RunState at 0x26ece52e608>,\n",
       " <paddlehub.finetune.task.base_task.RunState at 0x26ece184708>,\n",
       " <paddlehub.finetune.task.base_task.RunState at 0x26ece184888>,\n",
       " <paddlehub.finetune.task.base_task.RunState at 0x26ece184188>,\n",
       " <paddlehub.finetune.task.base_task.RunState at 0x26ece1843c8>,\n",
       " <paddlehub.finetune.task.base_task.RunState at 0x26ecbbfcc08>,\n",
       " <paddlehub.finetune.task.base_task.RunState at 0x26ece4b0f48>,\n",
       " <paddlehub.finetune.task.base_task.RunState at 0x26ece12ecc8>,\n",
       " <paddlehub.finetune.task.base_task.RunState at 0x26ece12ea08>,\n",
       " <paddlehub.finetune.task.base_task.RunState at 0x26ecbbfcf08>,\n",
       " <paddlehub.finetune.task.base_task.RunState at 0x26ece184648>,\n",
       " <paddlehub.finetune.task.base_task.RunState at 0x26ece184108>,\n",
       " <paddlehub.finetune.task.base_task.RunState at 0x26ece184388>,\n",
       " <paddlehub.finetune.task.base_task.RunState at 0x26ece184fc8>,\n",
       " <paddlehub.finetune.task.base_task.RunState at 0x26ece184988>,\n",
       " <paddlehub.finetune.task.base_task.RunState at 0x26ece184788>,\n",
       " <paddlehub.finetune.task.base_task.RunState at 0x26ece12ea88>,\n",
       " <paddlehub.finetune.task.base_task.RunState at 0x26ece12e3c8>,\n",
       " <paddlehub.finetune.task.base_task.RunState at 0x26ece19d348>,\n",
       " <paddlehub.finetune.task.base_task.RunState at 0x26ecbbfc288>,\n",
       " <paddlehub.finetune.task.base_task.RunState at 0x26ecbbfca88>,\n",
       " <paddlehub.finetune.task.base_task.RunState at 0x26ecbbfc9c8>,\n",
       " <paddlehub.finetune.task.base_task.RunState at 0x26ece19d548>,\n",
       " <paddlehub.finetune.task.base_task.RunState at 0x26ece07a408>,\n",
       " <paddlehub.finetune.task.base_task.RunState at 0x26ece33bc08>,\n",
       " <paddlehub.finetune.task.base_task.RunState at 0x26ece46c7c8>,\n",
       " <paddlehub.finetune.task.base_task.RunState at 0x26ece5f34c8>,\n",
       " <paddlehub.finetune.task.base_task.RunState at 0x26ece0f9fc8>,\n",
       " <paddlehub.finetune.task.base_task.RunState at 0x26e9f177348>,\n",
       " <paddlehub.finetune.task.base_task.RunState at 0x26eaaaf91c8>,\n",
       " <paddlehub.finetune.task.base_task.RunState at 0x26ece033708>,\n",
       " <paddlehub.finetune.task.base_task.RunState at 0x26ece033348>,\n",
       " <paddlehub.finetune.task.base_task.RunState at 0x26ece07a808>,\n",
       " <paddlehub.finetune.task.base_task.RunState at 0x26ece07a448>,\n",
       " <paddlehub.finetune.task.base_task.RunState at 0x26ece0331c8>,\n",
       " <paddlehub.finetune.task.base_task.RunState at 0x26ece57fd48>,\n",
       " <paddlehub.finetune.task.base_task.RunState at 0x26ece07ac88>,\n",
       " <paddlehub.finetune.task.base_task.RunState at 0x26ece07a4c8>,\n",
       " <paddlehub.finetune.task.base_task.RunState at 0x26ece07ae88>,\n",
       " <paddlehub.finetune.task.base_task.RunState at 0x26ece07a988>,\n",
       " <paddlehub.finetune.task.base_task.RunState at 0x26ece07ab48>,\n",
       " <paddlehub.finetune.task.base_task.RunState at 0x26ece07a8c8>,\n",
       " <paddlehub.finetune.task.base_task.RunState at 0x26ece07ad08>,\n",
       " <paddlehub.finetune.task.base_task.RunState at 0x26ece07a948>,\n",
       " <paddlehub.finetune.task.base_task.RunState at 0x26ece07a0c8>,\n",
       " <paddlehub.finetune.task.base_task.RunState at 0x26ece07a108>,\n",
       " <paddlehub.finetune.task.base_task.RunState at 0x26ece07aa08>,\n",
       " <paddlehub.finetune.task.base_task.RunState at 0x26ece07a608>,\n",
       " <paddlehub.finetune.task.base_task.RunState at 0x26ece07a788>,\n",
       " <paddlehub.finetune.task.base_task.RunState at 0x26ece07a888>,\n",
       " <paddlehub.finetune.task.base_task.RunState at 0x26ece07a048>,\n",
       " <paddlehub.finetune.task.base_task.RunState at 0x26ece07a488>,\n",
       " <paddlehub.finetune.task.base_task.RunState at 0x26ece07a208>,\n",
       " <paddlehub.finetune.task.base_task.RunState at 0x26ece07a348>,\n",
       " <paddlehub.finetune.task.base_task.RunState at 0x26ece07a7c8>,\n",
       " <paddlehub.finetune.task.base_task.RunState at 0x26ece0f5788>,\n",
       " <paddlehub.finetune.task.base_task.RunState at 0x26ece0f93c8>,\n",
       " <paddlehub.finetune.task.base_task.RunState at 0x26ece07a6c8>,\n",
       " <paddlehub.finetune.task.base_task.RunState at 0x26ece07afc8>,\n",
       " <paddlehub.finetune.task.base_task.RunState at 0x26ece07a588>,\n",
       " <paddlehub.finetune.task.base_task.RunState at 0x26ece07fa08>,\n",
       " <paddlehub.finetune.task.base_task.RunState at 0x26ece07f708>,\n",
       " <paddlehub.finetune.task.base_task.RunState at 0x26ece07f348>,\n",
       " <paddlehub.finetune.task.base_task.RunState at 0x26ece07f608>,\n",
       " <paddlehub.finetune.task.base_task.RunState at 0x26ece07ac08>,\n",
       " <paddlehub.finetune.task.base_task.RunState at 0x26ece07a148>,\n",
       " <paddlehub.finetune.task.base_task.RunState at 0x26ece07a1c8>,\n",
       " <paddlehub.finetune.task.base_task.RunState at 0x26ece07f7c8>,\n",
       " <paddlehub.finetune.task.base_task.RunState at 0x26ece07f1c8>,\n",
       " <paddlehub.finetune.task.base_task.RunState at 0x26ece07f4c8>,\n",
       " <paddlehub.finetune.task.base_task.RunState at 0x26ece07f688>,\n",
       " <paddlehub.finetune.task.base_task.RunState at 0x26ece07f408>,\n",
       " <paddlehub.finetune.task.base_task.RunState at 0x26ece07f788>,\n",
       " <paddlehub.finetune.task.base_task.RunState at 0x26ece07f748>,\n",
       " <paddlehub.finetune.task.base_task.RunState at 0x26ece07f888>,\n",
       " <paddlehub.finetune.task.base_task.RunState at 0x26ece07f508>,\n",
       " <paddlehub.finetune.task.base_task.RunState at 0x26ece07f3c8>,\n",
       " <paddlehub.finetune.task.base_task.RunState at 0x26ece07f848>,\n",
       " <paddlehub.finetune.task.base_task.RunState at 0x26ece1601c8>,\n",
       " <paddlehub.finetune.task.base_task.RunState at 0x26ece160c88>,\n",
       " <paddlehub.finetune.task.base_task.RunState at 0x26ece160988>,\n",
       " <paddlehub.finetune.task.base_task.RunState at 0x26ece160d88>,\n",
       " <paddlehub.finetune.task.base_task.RunState at 0x26ece1600c8>,\n",
       " <paddlehub.finetune.task.base_task.RunState at 0x26ece160908>,\n",
       " <paddlehub.finetune.task.base_task.RunState at 0x26ece160088>,\n",
       " <paddlehub.finetune.task.base_task.RunState at 0x26ece07acc8>,\n",
       " <paddlehub.finetune.task.base_task.RunState at 0x26ece07af48>,\n",
       " <paddlehub.finetune.task.base_task.RunState at 0x26ece160588>]"
      ]
     },
     "execution_count": 6,
     "metadata": {},
     "output_type": "execute_result"
    }
   ],
   "source": [
    "run_states"
   ]
  },
  {
   "cell_type": "code",
   "execution_count": 8,
   "metadata": {},
   "outputs": [
    {
     "data": {
      "text/plain": [
       "2"
      ]
     },
     "execution_count": 8,
     "metadata": {},
     "output_type": "execute_result"
    }
   ],
   "source": [
    "1+1"
   ]
  },
  {
   "cell_type": "code",
   "execution_count": null,
   "metadata": {},
   "outputs": [],
   "source": []
  }
 ],
 "metadata": {
  "kernelspec": {
   "display_name": "Python 3",
   "language": "python",
   "name": "python3"
  },
  "language_info": {
   "codemirror_mode": {
    "name": "ipython",
    "version": 3
   },
   "file_extension": ".py",
   "mimetype": "text/x-python",
   "name": "python",
   "nbconvert_exporter": "python",
   "pygments_lexer": "ipython3",
   "version": "3.7.6"
  }
 },
 "nbformat": 4,
 "nbformat_minor": 4
}
