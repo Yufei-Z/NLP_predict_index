{
 "cells": [
  {
   "cell_type": "markdown",
   "metadata": {},
   "source": [
    "import os\n",
    "from time import time\n",
    "import pandas as pd\n",
    "import numpy as np\n",
    "\n",
    "df = pd.read_csv('D:/stock_comment.csv')"
   ]
  },
  {
   "cell_type": "markdown",
   "metadata": {},
   "source": [
    "全聚德、科大讯飞、江西富祥、东方航空\n"
   ]
  },
  {
   "cell_type": "code",
   "execution_count": 6,
   "metadata": {},
   "outputs": [],
   "source": [
    "qjd = df.loc[df['name']=='全聚德']\n",
    "kdxf = df.loc[df['name']=='科大讯飞']\n",
    "jx = df.loc[df['name']=='江西富祥']\n",
    "dfhk = df.loc[df['name']=='东方航空']"
   ]
  },
  {
   "cell_type": "code",
   "execution_count": 8,
   "metadata": {},
   "outputs": [
    {
     "data": {
      "text/html": [
       "<div>\n",
       "<style scoped>\n",
       "    .dataframe tbody tr th:only-of-type {\n",
       "        vertical-align: middle;\n",
       "    }\n",
       "\n",
       "    .dataframe tbody tr th {\n",
       "        vertical-align: top;\n",
       "    }\n",
       "\n",
       "    .dataframe thead th {\n",
       "        text-align: right;\n",
       "    }\n",
       "</style>\n",
       "<table border=\"1\" class=\"dataframe\">\n",
       "  <thead>\n",
       "    <tr style=\"text-align: right;\">\n",
       "      <th></th>\n",
       "      <th>Unnamed: 0</th>\n",
       "      <th>id</th>\n",
       "      <th>code</th>\n",
       "      <th>name</th>\n",
       "      <th>comment</th>\n",
       "      <th>url</th>\n",
       "      <th>date</th>\n",
       "      <th>emotion</th>\n",
       "      <th>status</th>\n",
       "    </tr>\n",
       "  </thead>\n",
       "  <tbody>\n",
       "    <tr>\n",
       "      <th>6</th>\n",
       "      <td>6</td>\n",
       "      <td>00017ba734d06853aa0cb3f508717c11</td>\n",
       "      <td>2186</td>\n",
       "      <td>全聚德</td>\n",
       "      <td>这个驴皮冻？茅台就是酒精，富豪智商税交得666，林园自己都不喝，早年他是医生。</td>\n",
       "      <td>http://guba.eastmoney.com/news,cfhpl,899436564...</td>\n",
       "      <td>2020-01-20</td>\n",
       "      <td>-1</td>\n",
       "      <td>0</td>\n",
       "    </tr>\n",
       "    <tr>\n",
       "      <th>33</th>\n",
       "      <td>33</td>\n",
       "      <td>0008de5bcdf9f9a79b630703180e3b29</td>\n",
       "      <td>2186</td>\n",
       "      <td>全聚德</td>\n",
       "      <td>开始骂街了</td>\n",
       "      <td>http://guba.eastmoney.com/news,002186,90119415...</td>\n",
       "      <td>2020-02-04</td>\n",
       "      <td>-1</td>\n",
       "      <td>0</td>\n",
       "    </tr>\n",
       "    <tr>\n",
       "      <th>89</th>\n",
       "      <td>89</td>\n",
       "      <td>001e5cf3a2f9398d1f49831e7e6ac393</td>\n",
       "      <td>2186</td>\n",
       "      <td>全聚德</td>\n",
       "      <td>这种净资产，这种总市值，有一大帮人还站在一边说凉话，价格太高？呵呵，去st板块打开对比一下吧...</td>\n",
       "      <td>http://guba.eastmoney.com/news,002186,90846973...</td>\n",
       "      <td>2020-03-02</td>\n",
       "      <td>1</td>\n",
       "      <td>0</td>\n",
       "    </tr>\n",
       "    <tr>\n",
       "      <th>100</th>\n",
       "      <td>100</td>\n",
       "      <td>00226451a6c09a0b8e988dc214f621f1</td>\n",
       "      <td>2186</td>\n",
       "      <td>全聚德</td>\n",
       "      <td>今日正向4万股</td>\n",
       "      <td>http://guba.eastmoney.com/news,002186,89973514...</td>\n",
       "      <td>2020-01-21</td>\n",
       "      <td>1</td>\n",
       "      <td>0</td>\n",
       "    </tr>\n",
       "    <tr>\n",
       "      <th>226</th>\n",
       "      <td>226</td>\n",
       "      <td>005213d8f06b0d406027a28ca0b30a54</td>\n",
       "      <td>2186</td>\n",
       "      <td>全聚德</td>\n",
       "      <td>预计净利润亏损还不是一般般。</td>\n",
       "      <td>http://guba.eastmoney.com/news,002186,89559069...</td>\n",
       "      <td>2020-01-02</td>\n",
       "      <td>1</td>\n",
       "      <td>0</td>\n",
       "    </tr>\n",
       "    <tr>\n",
       "      <th>...</th>\n",
       "      <td>...</td>\n",
       "      <td>...</td>\n",
       "      <td>...</td>\n",
       "      <td>...</td>\n",
       "      <td>...</td>\n",
       "      <td>...</td>\n",
       "      <td>...</td>\n",
       "      <td>...</td>\n",
       "      <td>...</td>\n",
       "    </tr>\n",
       "    <tr>\n",
       "      <th>171125</th>\n",
       "      <td>171125</td>\n",
       "      <td>ffe9135b84fb3f179d32fe7895f11169</td>\n",
       "      <td>2186</td>\n",
       "      <td>全聚德</td>\n",
       "      <td>爬山中</td>\n",
       "      <td>http://guba.eastmoney.com/news,002186,89579892...</td>\n",
       "      <td>2020-01-02</td>\n",
       "      <td>1</td>\n",
       "      <td>0</td>\n",
       "    </tr>\n",
       "    <tr>\n",
       "      <th>171136</th>\n",
       "      <td>171136</td>\n",
       "      <td>ffecfb61b71b235fc563916b110f327f</td>\n",
       "      <td>2186</td>\n",
       "      <td>全聚德</td>\n",
       "      <td>如果不超十元，我准备加仓民族品牌，疫情结束之后，去全聚德吃饭。</td>\n",
       "      <td>http://guba.eastmoney.com/news,002186,91035874...</td>\n",
       "      <td>2020-03-06</td>\n",
       "      <td>-1</td>\n",
       "      <td>0</td>\n",
       "    </tr>\n",
       "    <tr>\n",
       "      <th>171157</th>\n",
       "      <td>171157</td>\n",
       "      <td>fff427a49c4e293d60e7fb47dd5be03e</td>\n",
       "      <td>2186</td>\n",
       "      <td>全聚德</td>\n",
       "      <td>茅台是传统行业吗？</td>\n",
       "      <td>http://guba.eastmoney.com/news,002186,90152225...</td>\n",
       "      <td>2020-02-05</td>\n",
       "      <td>-1</td>\n",
       "      <td>0</td>\n",
       "    </tr>\n",
       "    <tr>\n",
       "      <th>171179</th>\n",
       "      <td>171179</td>\n",
       "      <td>fffb7cbb1f0e384d290b8c5d8447035c</td>\n",
       "      <td>2186</td>\n",
       "      <td>全聚德</td>\n",
       "      <td>现在没有人敢去饭店吃饭，滑坡还要继续大幅度增加。</td>\n",
       "      <td>http://guba.eastmoney.com/news,002186,90649648...</td>\n",
       "      <td>2020-02-24</td>\n",
       "      <td>1</td>\n",
       "      <td>0</td>\n",
       "    </tr>\n",
       "    <tr>\n",
       "      <th>171183</th>\n",
       "      <td>171183</td>\n",
       "      <td>fffe9fe30efe7bd5dad7ca75027a0598</td>\n",
       "      <td>2186</td>\n",
       "      <td>全聚德</td>\n",
       "      <td>最后会烤龙的！</td>\n",
       "      <td>http://guba.eastmoney.com/news,002186,91284736...</td>\n",
       "      <td>2020-03-14</td>\n",
       "      <td>1</td>\n",
       "      <td>0</td>\n",
       "    </tr>\n",
       "  </tbody>\n",
       "</table>\n",
       "<p>6880 rows × 9 columns</p>\n",
       "</div>"
      ],
      "text/plain": [
       "        Unnamed: 0                                id  code name  \\\n",
       "6                6  00017ba734d06853aa0cb3f508717c11  2186  全聚德   \n",
       "33              33  0008de5bcdf9f9a79b630703180e3b29  2186  全聚德   \n",
       "89              89  001e5cf3a2f9398d1f49831e7e6ac393  2186  全聚德   \n",
       "100            100  00226451a6c09a0b8e988dc214f621f1  2186  全聚德   \n",
       "226            226  005213d8f06b0d406027a28ca0b30a54  2186  全聚德   \n",
       "...            ...                               ...   ...  ...   \n",
       "171125      171125  ffe9135b84fb3f179d32fe7895f11169  2186  全聚德   \n",
       "171136      171136  ffecfb61b71b235fc563916b110f327f  2186  全聚德   \n",
       "171157      171157  fff427a49c4e293d60e7fb47dd5be03e  2186  全聚德   \n",
       "171179      171179  fffb7cbb1f0e384d290b8c5d8447035c  2186  全聚德   \n",
       "171183      171183  fffe9fe30efe7bd5dad7ca75027a0598  2186  全聚德   \n",
       "\n",
       "                                                  comment  \\\n",
       "6                 这个驴皮冻？茅台就是酒精，富豪智商税交得666，林园自己都不喝，早年他是医生。   \n",
       "33                                                  开始骂街了   \n",
       "89      这种净资产，这种总市值，有一大帮人还站在一边说凉话，价格太高？呵呵，去st板块打开对比一下吧...   \n",
       "100                                               今日正向4万股   \n",
       "226                                        预计净利润亏损还不是一般般。   \n",
       "...                                                   ...   \n",
       "171125                                                爬山中   \n",
       "171136                    如果不超十元，我准备加仓民族品牌，疫情结束之后，去全聚德吃饭。   \n",
       "171157                                          茅台是传统行业吗？   \n",
       "171179                           现在没有人敢去饭店吃饭，滑坡还要继续大幅度增加。   \n",
       "171183                                            最后会烤龙的！   \n",
       "\n",
       "                                                      url        date  \\\n",
       "6       http://guba.eastmoney.com/news,cfhpl,899436564...  2020-01-20   \n",
       "33      http://guba.eastmoney.com/news,002186,90119415...  2020-02-04   \n",
       "89      http://guba.eastmoney.com/news,002186,90846973...  2020-03-02   \n",
       "100     http://guba.eastmoney.com/news,002186,89973514...  2020-01-21   \n",
       "226     http://guba.eastmoney.com/news,002186,89559069...  2020-01-02   \n",
       "...                                                   ...         ...   \n",
       "171125  http://guba.eastmoney.com/news,002186,89579892...  2020-01-02   \n",
       "171136  http://guba.eastmoney.com/news,002186,91035874...  2020-03-06   \n",
       "171157  http://guba.eastmoney.com/news,002186,90152225...  2020-02-05   \n",
       "171179  http://guba.eastmoney.com/news,002186,90649648...  2020-02-24   \n",
       "171183  http://guba.eastmoney.com/news,002186,91284736...  2020-03-14   \n",
       "\n",
       "        emotion  status  \n",
       "6            -1       0  \n",
       "33           -1       0  \n",
       "89            1       0  \n",
       "100           1       0  \n",
       "226           1       0  \n",
       "...         ...     ...  \n",
       "171125        1       0  \n",
       "171136       -1       0  \n",
       "171157       -1       0  \n",
       "171179        1       0  \n",
       "171183        1       0  \n",
       "\n",
       "[6880 rows x 9 columns]"
      ]
     },
     "execution_count": 8,
     "metadata": {},
     "output_type": "execute_result"
    }
   ],
   "source": [
    "qjd"
   ]
  },
  {
   "cell_type": "code",
   "execution_count": 32,
   "metadata": {},
   "outputs": [
    {
     "data": {
      "text/plain": [
       "(6880, 9)"
      ]
     },
     "execution_count": 32,
     "metadata": {},
     "output_type": "execute_result"
    }
   ],
   "source": [
    "qjd.shape"
   ]
  },
  {
   "cell_type": "markdown",
   "metadata": {},
   "source": [
    "qgd"
   ]
  },
  {
   "cell_type": "code",
   "execution_count": 97,
   "metadata": {},
   "outputs": [],
   "source": [
    "start_date = '2019-12-01'\n",
    "grouped = qjd['emotion'].groupby(df.date)#.dt.date)\n",
    "\n",
    "\n",
    "def BI_Simple_func(row):\n",
    "    pos = row[row == 1].count()\n",
    "    neg = row[row == -1].count()\n",
    "    neu = row[row == 0].count() \n",
    "\n",
    "    return (pos)/(pos+neg+neu)\n",
    "\n",
    "sentiment_idx = grouped.apply(BI_Simple_func)\n",
    "\n",
    "id  = '002186'\n",
    "if int(id)>100000:\n",
    "    stock_code=id+'.SH'\n",
    "else:\n",
    "    stock_code=id+'.SZ'\n",
    "quotes = pro.daily(ts_code=stock_code, start_date=start_date)\n",
    "quotes['trade_date']= pd.to_datetime(quotes['trade_date'])\n",
    "quotes.set_index('trade_date', inplace=True)\n",
    "pct_chg=quotes['pct_chg'].shift(periods=1, fill_value=0)\n",
    "#pct_chg.index = pd.to_datetime(pct_chg['date'])\n",
    "merged = pd.merge(sentiment_idx, pct_chg, how='right', left_index=True, right_index=True)\n",
    "\n",
    "merged = merged.dropna(axis=0)"
   ]
  },
  {
   "cell_type": "code",
   "execution_count": 57,
   "metadata": {},
   "outputs": [
    {
     "data": {
      "text/plain": [
       "-8.3681"
      ]
     },
     "execution_count": 57,
     "metadata": {},
     "output_type": "execute_result"
    }
   ],
   "source": [
    "\n",
    "l = np.sum((merged['emotion']>(np.mean(merged['emotion'])+0.5*np.std(merged['emotion'])))*merged['pct_chg'])\n",
    "s = -np.sum((merged['emotion']<(np.mean(merged['emotion'])-0.5*np.std(merged['emotion'])))*merged['pct_chg'])\n"
   ]
  },
  {
   "cell_type": "code",
   "execution_count": 98,
   "metadata": {},
   "outputs": [
    {
     "data": {
      "text/plain": [
       "Text(0, 0.5, 'Density')"
      ]
     },
     "execution_count": 98,
     "metadata": {},
     "output_type": "execute_result"
    },
    {
     "data": {
      "image/png": "[encoded data removed]",
      "text/plain": [
       "<Figure size 432x288 with 1 Axes>"
      ]
     },
     "metadata": {
      "needs_background": "light"
     },
     "output_type": "display_data"
    }
   ],
   "source": [
    "import seaborn as sns\n",
    "import matplotlib.pyplot as plt\n",
    "\n",
    "thre_p = np.mean(merged['emotion'])+0.5*np.std(merged['emotion'])\n",
    "thre_n = np.mean(merged['emotion'])-0.5*np.std(merged['emotion'])\n",
    "a = merged[merged['emotion']>thre_p]['pct_chg']\n",
    "b = merged[merged['emotion']<thre_n]['pct_chg']\n",
    "sns.distplot(a, hist = False, kde = True,\n",
    "                 kde_kws = {'linewidth': 3},\n",
    "                 label = 'when sentiment positive')\n",
    "sns.distplot(b, hist = False, kde = True,\n",
    "                 kde_kws = {'linewidth': 3},\n",
    "                 label = 'when sentiment negative')\n",
    "plt.legend(prop={'size': 8}, title = 'sentiment score')\n",
    "plt.title('price change in different case')\n",
    "plt.xlabel('close pct change')\n",
    "plt.ylabel('Density')"
   ]
  },
  {
   "cell_type": "code",
   "execution_count": 60,
   "metadata": {},
   "outputs": [
    {
     "data": {
      "text/plain": [
       "-8.3681"
      ]
     },
     "execution_count": 60,
     "metadata": {},
     "output_type": "execute_result"
    }
   ],
   "source": [
    "s"
   ]
  },
  {
   "cell_type": "markdown",
   "metadata": {},
   "source": [
    "江西富祥"
   ]
  },
  {
   "cell_type": "code",
   "execution_count": 95,
   "metadata": {},
   "outputs": [],
   "source": [
    "start_date = '2019-12-01'\n",
    "grouped = jx['emotion'].groupby(df.date)#.dt.date)\n",
    "\n",
    "\n",
    "def BI_Simple_func(row):\n",
    "    pos = row[row == 1].count()\n",
    "    neg = row[row == -1].count()\n",
    "    neu = row[row == 0].count() \n",
    "\n",
    "    return (pos)/(pos+neg+neu)\n",
    "\n",
    "sentiment_idx = grouped.apply(BI_Simple_func)\n",
    "\n",
    "id  = '300497'\n",
    "if int(id)>400000:\n",
    "    stock_code=id+'.SH'\n",
    "else:\n",
    "    stock_code=id+'.SZ'\n",
    "quotes = pro.daily(ts_code=stock_code, start_date=start_date)\n",
    "quotes['trade_date']= pd.to_datetime(quotes['trade_date'])\n",
    "quotes.set_index('trade_date', inplace=True)\n",
    "pct_chg=quotes['pct_chg'].shift(periods=1, fill_value=0)\n",
    "#pct_chg.index = pd.to_datetime(pct_chg['date'])\n",
    "merged = pd.merge(sentiment_idx, pct_chg, how='right', left_index=True, right_index=True)\n",
    "\n",
    "merged = merged.dropna(axis=0)\n"
   ]
  },
  {
   "cell_type": "code",
   "execution_count": 96,
   "metadata": {},
   "outputs": [
    {
     "data": {
      "text/plain": [
       "Text(0, 0.5, 'Density')"
      ]
     },
     "execution_count": 96,
     "metadata": {},
     "output_type": "execute_result"
    },
    {
     "data": {
      "image/png": "[encoded data removed]",
      "text/plain": [
       "<Figure size 432x288 with 1 Axes>"
      ]
     },
     "metadata": {
      "needs_background": "light"
     },
     "output_type": "display_data"
    }
   ],
   "source": [
    "import seaborn as sns\n",
    "import matplotlib.pyplot as plt\n",
    "\n",
    "thre_p = np.mean(merged['emotion'])+0.5*np.std(merged['emotion'])\n",
    "thre_n = np.mean(merged['emotion'])-0.5*np.std(merged['emotion'])\n",
    "a = merged[merged['emotion']>thre_p]['pct_chg']\n",
    "b = merged[merged['emotion']<thre_n]['pct_chg']\n",
    "sns.distplot(a, hist = False, kde = True,\n",
    "                 kde_kws = {'linewidth': 3},\n",
    "                 label = 'when sentiment positive')\n",
    "sns.distplot(b, hist = False, kde = True,\n",
    "                 kde_kws = {'linewidth': 3},\n",
    "                 label = 'when sentiment negative')\n",
    "plt.legend(prop={'size': 8}, title = 'sentiment score')\n",
    "plt.title('price change in different case')\n",
    "plt.xlabel('close pct change')\n",
    "plt.ylabel('Density')"
   ]
  },
  {
   "cell_type": "code",
   "execution_count": 71,
   "metadata": {},
   "outputs": [
    {
     "data": {
      "text/plain": [
       "-12.0208"
      ]
     },
     "execution_count": 71,
     "metadata": {},
     "output_type": "execute_result"
    }
   ],
   "source": [
    "l = np.sum((merged['emotion']>(np.mean(merged['emotion'])+0.5*np.std(merged['emotion'])))*merged['pct_chg'])\n",
    "s = -np.sum((merged['emotion']<(np.mean(merged['emotion'])-0.5*np.std(merged['emotion'])))*merged['pct_chg'])\n",
    "s"
   ]
  },
  {
   "cell_type": "code",
   "execution_count": 72,
   "metadata": {},
   "outputs": [
    {
     "data": {
      "text/plain": [
       "14.4528"
      ]
     },
     "execution_count": 72,
     "metadata": {},
     "output_type": "execute_result"
    }
   ],
   "source": [
    "l"
   ]
  },
  {
   "cell_type": "code",
   "execution_count": 93,
   "metadata": {},
   "outputs": [],
   "source": [
    "start_date = '2019-12-01'\n",
    "grouped = dfhk['emotion'].groupby(df.date)#.dt.date)\n",
    "\n",
    "\n",
    "def BI_Simple_func(row):\n",
    "    pos = row[row == 1].count()\n",
    "    neg = row[row == -1].count()\n",
    "    neu = row[row == 0].count() \n",
    "\n",
    "    return (pos)/(pos+neg+neu)\n",
    "\n",
    "sentiment_idx = grouped.apply(BI_Simple_func)\n",
    "\n",
    "id  = '600115'\n",
    "if int(id)>400000:\n",
    "    stock_code=id+'.SH'\n",
    "else:\n",
    "    stock_code=id+'.SZ'\n",
    "quotes = pro.daily(ts_code=stock_code, start_date=start_date)\n",
    "quotes['trade_date']= pd.to_datetime(quotes['trade_date'])\n",
    "quotes.set_index('trade_date', inplace=True)\n",
    "pct_chg=quotes['pct_chg'].shift(periods=1, fill_value=0)\n",
    "#pct_chg.index = pd.to_datetime(pct_chg['date'])\n",
    "merged = pd.merge(sentiment_idx, pct_chg, how='right', left_index=True, right_index=True)\n",
    "\n",
    "merged = merged.dropna(axis=0)"
   ]
  },
  {
   "cell_type": "code",
   "execution_count": 94,
   "metadata": {},
   "outputs": [
    {
     "data": {
      "text/plain": [
       "Text(0, 0.5, 'Density')"
      ]
     },
     "execution_count": 94,
     "metadata": {},
     "output_type": "execute_result"
    },
    {
     "data": {
      "image/png": "[encoded data removed]",
      "text/plain": [
       "<Figure size 432x288 with 1 Axes>"
      ]
     },
     "metadata": {
      "needs_background": "light"
     },
     "output_type": "display_data"
    }
   ],
   "source": [
    "import seaborn as sns\n",
    "import matplotlib.pyplot as plt\n",
    "\n",
    "thre_p = np.mean(merged['emotion'])+0.5*np.std(merged['emotion'])\n",
    "thre_n = np.mean(merged['emotion'])-0.5*np.std(merged['emotion'])\n",
    "a = merged[merged['emotion']>thre_p]['pct_chg']\n",
    "b = merged[merged['emotion']<thre_n]['pct_chg']\n",
    "sns.distplot(a, hist = False, kde = True,\n",
    "                 kde_kws = {'linewidth': 3},\n",
    "                 label = 'when sentiment positive')\n",
    "sns.distplot(b, hist = False, kde = True,\n",
    "                 kde_kws = {'linewidth': 3},\n",
    "                 label = 'when sentiment negative')\n",
    "plt.legend(prop={'size': 8}, title = 'sentiment score')\n",
    "plt.title('price change in different case')\n",
    "plt.xlabel('close pct change')\n",
    "plt.ylabel('Density')"
   ]
  },
  {
   "cell_type": "code",
   "execution_count": 81,
   "metadata": {},
   "outputs": [
    {
     "data": {
      "text/plain": [
       "-7.099700000000001"
      ]
     },
     "execution_count": 81,
     "metadata": {},
     "output_type": "execute_result"
    }
   ],
   "source": [
    "l = np.sum((merged['emotion']>(np.mean(merged['emotion'])+0.5*np.std(merged['emotion'])))*merged['pct_chg'])\n",
    "s = -np.sum((merged['emotion']<(np.mean(merged['emotion'])-0.5*np.std(merged['emotion'])))*merged['pct_chg'])\n",
    "l"
   ]
  },
  {
   "cell_type": "code",
   "execution_count": 80,
   "metadata": {},
   "outputs": [
    {
     "data": {
      "text/plain": [
       "14.401"
      ]
     },
     "execution_count": 80,
     "metadata": {},
     "output_type": "execute_result"
    }
   ],
   "source": [
    "s"
   ]
  },
  {
   "cell_type": "markdown",
   "metadata": {},
   "source": [
    "科大讯飞"
   ]
  },
  {
   "cell_type": "code",
   "execution_count": 84,
   "metadata": {
    "scrolled": true
   },
   "outputs": [],
   "source": [
    "start_date = '2019-12-01'\n",
    "grouped = kdxf['emotion'].groupby(df.date)#.dt.date)\n",
    "\n",
    "\n",
    "def BI_Simple_func(row):\n",
    "    pos = row[row == 1].count()\n",
    "    neg = row[row == -1].count()\n",
    "    neu = row[row == 0].count() \n",
    "\n",
    "    return (pos)/(pos+neg+neu)\n",
    "\n",
    "sentiment_idx = grouped.apply(BI_Simple_func)\n",
    "\n",
    "id  = '002230'\n",
    "if int(id)>400000:\n",
    "    stock_code=id+'.SH'\n",
    "else:\n",
    "    stock_code=id+'.SZ'\n",
    "quotes = pro.daily(ts_code=stock_code, start_date=start_date)\n",
    "quotes['trade_date']= pd.to_datetime(quotes['trade_date'])\n",
    "quotes.set_index('trade_date', inplace=True)\n",
    "pct_chg=quotes['pct_chg'].shift(periods=1, fill_value=0)\n",
    "#pct_chg.index = pd.to_datetime(pct_chg['date'])\n",
    "merged = pd.merge(sentiment_idx, pct_chg, how='right', left_index=True, right_index=True)\n",
    "\n",
    "merged = merged.dropna(axis=0)"
   ]
  },
  {
   "cell_type": "code",
   "execution_count": 85,
   "metadata": {},
   "outputs": [],
   "source": [
    "l = np.sum((merged['emotion']>(np.mean(merged['emotion'])+0.5*np.std(merged['emotion'])))*merged['pct_chg'])\n",
    "s = -np.sum((merged['emotion']<(np.mean(merged['emotion'])-0.5*np.std(merged['emotion'])))*merged['pct_chg'])"
   ]
  },
  {
   "cell_type": "code",
   "execution_count": 87,
   "metadata": {},
   "outputs": [
    {
     "data": {
      "text/plain": [
       "23.563499999999998"
      ]
     },
     "execution_count": 87,
     "metadata": {},
     "output_type": "execute_result"
    }
   ],
   "source": [
    "l"
   ]
  },
  {
   "cell_type": "code",
   "execution_count": 88,
   "metadata": {},
   "outputs": [
    {
     "data": {
      "text/plain": [
       "24.5749"
      ]
     },
     "execution_count": 88,
     "metadata": {},
     "output_type": "execute_result"
    }
   ],
   "source": [
    "s"
   ]
  },
  {
   "cell_type": "code",
   "execution_count": 91,
   "metadata": {},
   "outputs": [
    {
     "data": {
      "text/plain": [
       "Text(0, 0.5, 'Density')"
      ]
     },
     "execution_count": 91,
     "metadata": {},
     "output_type": "execute_result"
    },
    {
     "data": {
      "image/png": "[encoded data removed]",
      "text/plain": [
       "<Figure size 432x288 with 1 Axes>"
      ]
     },
     "metadata": {
      "needs_background": "light"
     },
     "output_type": "display_data"
    }
   ],
   "source": [
    "import seaborn as sns\n",
    "import matplotlib.pyplot as plt\n",
    "\n",
    "thre_p = np.mean(merged['emotion'])+0.5*np.std(merged['emotion'])\n",
    "thre_n = np.mean(merged['emotion'])-0.5*np.std(merged['emotion'])\n",
    "a = merged[merged['emotion']>thre_p]['pct_chg']\n",
    "b = merged[merged['emotion']<thre_n]['pct_chg']\n",
    "sns.distplot(a, hist = False, kde = True,\n",
    "                 kde_kws = {'linewidth': 3},\n",
    "                 label = 'when sentiment positive')\n",
    "sns.distplot(b, hist = False, kde = True,\n",
    "                 kde_kws = {'linewidth': 3},\n",
    "                 label = 'when sentiment negative')\n",
    "plt.legend(prop={'size': 8}, title = 'sentiment score')\n",
    "plt.title('price change in different case')\n",
    "plt.xlabel('close pct change')\n",
    "plt.ylabel('Density')"
   ]
  },
  {
   "cell_type": "code",
   "execution_count": 99,
   "metadata": {},
   "outputs": [
    {
     "data": {
      "text/plain": [
       "[<matplotlib.lines.Line2D at 0x1a5b986d088>]"
      ]
     },
     "execution_count": 99,
     "metadata": {},
     "output_type": "execute_result"
    },
    {
     "data": {
      "image/png": "[encoded data removed]",
      "text/plain": [
       "<Figure size 432x288 with 1 Axes>"
      ]
     },
     "metadata": {
      "needs_background": "light"
     },
     "output_type": "display_data"
    }
   ],
   "source": [
    "plt.plot(merged['pct_chg'])"
   ]
  },
  {
   "cell_type": "code",
   "execution_count": null,
   "metadata": {},
   "outputs": [],
   "source": []
  }
 ],
 "metadata": {
  "kernelspec": {
   "display_name": "Python 3",
   "language": "python",
   "name": "python3"
  },
  "language_info": {
   "codemirror_mode": {
    "name": "ipython",
    "version": 3
   },
   "file_extension": ".py",
   "mimetype": "text/x-python",
   "name": "python",
   "nbconvert_exporter": "python",
   "pygments_lexer": "ipython3",
   "version": "3.7.6"
  }
 },
 "nbformat": 4,
 "nbformat_minor": 4
}
